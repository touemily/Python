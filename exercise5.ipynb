{
 "cells": [
  {
   "cell_type": "markdown",
   "metadata": {},
   "source": [
    "# Exercise 5\n",
    "\n",
    "Create a Python module `water.py` that contains the follow data:\n",
    "\n",
    "| Property Name | Value (SI) | Variable Name |     Property Name    | Value (SI) | Variable Name |\n",
    "|---------------|:----------:|---------------|:--------------------:|------------|---------------|\n",
    "| CAS Number    | 7732-18-5  | `cas_number`  | Melting Point        | 273.15     | `Tm`          |\n",
    "| Density       | 1000       | `rho`         | Boiling Point        | 373.13     | `Tb`          |\n",
    "| Viscosity     | 1          | `mu`          | Thermal Conductivity | 0.58           | `k`           |\n",
    " \n",
    "and the following functions:\n",
    "\n",
    "* `convert_to_kelvin(temperature, units)` -- returns the `temperature` in Kelvin where `temperature` is a numeric value (`float` or `int`) and `units` is a string of length 1 ('C' for Celsius, and 'F' for Fahrenheit).\n",
    "* `is_gas(temperature)` -- returns `True` if water is a gas at the specified `temperature`, else returns `False`, where `temperature` is a numeric value (`float` or `int`) and is assumed to be in Kelvin.\n",
    "* `is_liquid(temperature)` -- returns `True` if water is a liquid at the specified `temperature`, else `False`, where `temperature` is a numeric value (`float` or `int`) and is assumed to be in Kelvin.\n",
    "* `is_solid(temperature)` -- returns `True` if water is a solid at the specified `temperature`, else `False`, where `temperature` is a numeric value (`float` or `int`) and is assumed to be in Kelvin.\n",
    "\n",
    "where each function returns the `None` value if invalid input arguments were provided.\n",
    "\n",
    "Finally, develop the module such that if (and only if) it is executed as a script it does the following things, in sequential order:\n",
    "\n",
    "1. Queries the user for the desired units ('K' for Kelvin, 'C' for Celsius, and 'F' for Fahrenheit).\n",
    "\n",
    "2. Queries the user for a temperature value.\n",
    "\n",
    "3. Outputs a message corresponding to the phase of water at the specified temperature: \"solid\", \"liquid\", \"gas\", or \"Invalid input!\" (if invalid input was provided at any time in the execution)."
   ]
  },
  {
   "cell_type": "code",
   "execution_count": 11,
   "metadata": {},
   "outputs": [
    {
     "name": "stdout",
     "output_type": "stream",
     "text": [
      "Input a temperature. 70\n",
      "liquid\n",
      "Input the unit.C\n"
     ]
    }
   ],
   "source": [
    "Tb = 373.13\n",
    "Tm = 273.15\n",
    "k = 0.58\n",
    "cas_number = '7732-18-5'\n",
    "rho = 1000\n",
    "mu = 1\n",
    "\n",
    "def convert_to_kelvin(temperature, units):\n",
    "    if (type(temperature) == float or type(temperature) == int) and type(units) == str and len(units) == 1:\n",
    "        if units == 'C':\n",
    "            temperature = temperature + 273.15\n",
    "            return(temperature)\n",
    "        elif units == 'F':\n",
    "            temperature = (temperature - 32) * (5/9)  + 273.15\n",
    "            return (temperature)\n",
    "        elif units == 'K':\n",
    "            return(temperature)\n",
    "        else:\n",
    "            print('Invalid input!')\n",
    "            return(None)\n",
    "    else:\n",
    "        print('Invalid input!')\n",
    "        return(None)\n",
    "\n",
    "def is_gas(temperature):\n",
    "    Tb = 373.13\n",
    "    Tm = 273.15\n",
    "    if type(temperature) == float or type(temperature) == int:\n",
    "        if temperature >= Tb:\n",
    "            print('gas')\n",
    "            return(True)\n",
    "        else:\n",
    "            return(False)\n",
    "    else:\n",
    "        print('Invalid input!')\n",
    "        return(None)\n",
    "\n",
    "def is_liquid(temperature):\n",
    "    Tb = 373.13\n",
    "    Tm = 273.15\n",
    "    if type(temperature) == float or type(temperature) == int:\n",
    "        if Tb > temperature > Tm:\n",
    "            print('liquid')\n",
    "            return(True)\n",
    "        else:\n",
    "            return(False)\n",
    "    else:\n",
    "        print('Invalid input!')\n",
    "        return(None)\n",
    "\n",
    "def is_solid(temperature):\n",
    "    Tb = 373.13\n",
    "    Tm = 273.15\n",
    "    if type(temperature) == float or type(temperature) == int:\n",
    "        if temperature <= Tm:\n",
    "            print('solid')\n",
    "            return(True)\n",
    "    else:\n",
    "        print('Invalid input!')\n",
    "        return(None)\n",
    "    \n",
    "temperature = input('Input a temperature. ')\n",
    "if '1' in temperature or '2' in temperature or '3' in temperature or '4' in temperature or '5' in temperature\\\n",
    "or '6' in temperature or '7' in temperature or '8' in temperature or '9' in temperature or '0' in temperature:\n",
    "    temperature = float(temperature)\n",
    "    temperature = convert_to_kelvin(temperature, units)\n",
    "    is_gas(temperature)\n",
    "    is_liquid(temperature)\n",
    "    is_solid(temperature)\n",
    "else:\n",
    "    print ('Invalid input!')\n",
    "units = input('Input the unit.')"
   ]
  },
  {
   "cell_type": "code",
   "execution_count": 1,
   "metadata": {},
   "outputs": [
    {
     "name": "stdout",
     "output_type": "stream",
     "text": [
      "1.0\n"
     ]
    }
   ],
   "source": [
    "\n",
    "def solution(A):\n",
    "\n",
    "    counterheads = 0\n",
    "    countertails = 0\n",
    "    numcoins = 0\n",
    "    \n",
    "    for eachcoin in A:\n",
    "        \n",
    "        numcoins +=1\n",
    "        \n",
    "        if eachcoin == 1:\n",
    "            countertails +=1\n",
    "        elif eachcoin == 0:\n",
    "            counterheads +=1\n",
    "    \n",
    "    \n",
    "    if (countertails > counterheads):\n",
    "        return (countertails - counterheads)/2\n",
    "    elif (counterheads > countertails):\n",
    "        return (counterheads - countertails)/2\n",
    "    else:\n",
    "        return 0\n",
    "    \n",
    "print(solution([1, 0, 0, 1, 0, 0]))"
   ]
  }
 ],
 "metadata": {
  "kernelspec": {
   "display_name": "Python 3",
   "language": "python",
   "name": "python3"
  },
  "language_info": {
   "codemirror_mode": {
    "name": "ipython",
    "version": 3
   },
   "file_extension": ".py",
   "mimetype": "text/x-python",
   "name": "python",
   "nbconvert_exporter": "python",
   "pygments_lexer": "ipython3",
   "version": "3.7.3"
  }
 },
 "nbformat": 4,
 "nbformat_minor": 1
}
