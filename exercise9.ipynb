{
 "cells": [
  {
   "cell_type": "markdown",
   "metadata": {},
   "source": [
   ]
  },
  {
   "cell_type": "code",
   "execution_count": 9,
   "metadata": {},
   "outputs": [],
   "source": [
    "import numpy"
   ]
  },
  {
   "cell_type": "markdown",
   "metadata": {},
   "source": [
    "linear algebra module,  linear equation system $\\mathbf{Ax} = \\mathbf{b}$ unique solution"
   ]
  },
  {
   "cell_type": "code",
   "execution_count": 6,
   "metadata": {},
   "outputs": [],
   "source": [
    "# b is the target vector\n",
    "# If A is a square matrix, n of b cannot be less than n of A\n",
    "def problem1(A, b):\n",
    "    shapeofA = A.shape\n",
    "    shapeofB = b.shape\n",
    "    if (shapeofA[0] == shapeofA[1]) and (shapeofA[0] == shapeofB[0]) and (numpy.linalg.det(A) != 0):\n",
    "# or if (shapeofA[0] == shapeofA[1]) and (shapeofA[1] == shapeofB[0]) and (numpy.linalg.det(A) != 0):\n",
    "        return True\n",
    "    else:\n",
    "        return False"
   ]
  },
  {
   "cell_type": "markdown",
   "metadata": {},
   "source": [
    "linear algebra module that returns the elapsed time (seconds) required to solve the linear equation system $\\mathbf{Ax} = \\mathbf{b}$ using Gaussian Elimination or the inverse method"
   ]
  },
  {
   "cell_type": "code",
   "execution_count": 7,
   "metadata": {},
   "outputs": [],
   "source": [
    "import time\n",
    "def problem2(A, b, method):\n",
    "    solveable = problem1(A, b)\n",
    "    if solveable == True:\n",
    "        if method == \"ge\":\n",
    "            numpy.linalg.solve(A, b)\n",
    "            return time.perf_counter()\n",
    "        if method == \"inv\":\n",
    "            inverseofmatrix = numpy.linalg.inv(A)\n",
    "            numpy.linalg.solve(inverseofmatrix, b)\n",
    "            return time.perf_counter()\n",
    "    else:\n",
    "        return None"
   ]
  },
  {
   "cell_type": "markdown",
   "metadata": {},
   "source": [
    "polyfit() returns a `array` of the coefficients of the best-fit polynomial $t(n)$ for the runtime of Gaussian elimination or the inverse matrix method\n",
    "\n",
    "$t(n) = a_0 + a_1 n + a_2 n^2 + a_3 n^3$\n",
    "\n",
    "where $t(n)$ is the runtime of the method for solving a linear system of size $n$. The input argument `n_array` specifies the dimensions of the linear systems that should be used as a sample set to measure runtimes which are then used to determine a best-fit. The best fit $t(n)$ provides us with an approximation of the runtime versus linear system size for the specified method (`\"ge\"` or `\"inv\"`).\n",
    "\n",
    "The `random.random()` function should be used to generate the linear equation systems of different dimensions (specified by `n_array`) which, in turn, will be used to create timing data points $(n, t)$ for fitting to the polynomial."
   ]
  },
  {
   "cell_type": "code",
   "execution_count": 10,
   "metadata": {},
   "outputs": [
    {
     "ename": "AttributeError",
     "evalue": "'int' object has no attribute 'shape'",
     "output_type": "error",
     "traceback": [
      "\u001b[1;31m---------------------------------------------------------------------------\u001b[0m",
      "\u001b[1;31mAttributeError\u001b[0m                            Traceback (most recent call last)",
      "\u001b[1;32m<ipython-input-10-90899d5c1dd4>\u001b[0m in \u001b[0;36m<module>\u001b[1;34m\u001b[0m\n\u001b[0;32m     22\u001b[0m     \u001b[1;32mreturn\u001b[0m \u001b[0mnumpy\u001b[0m\u001b[1;33m.\u001b[0m\u001b[0mpolyfit\u001b[0m\u001b[1;33m(\u001b[0m\u001b[0mn_array\u001b[0m\u001b[1;33m,\u001b[0m \u001b[0mtime_array\u001b[0m\u001b[1;33m,\u001b[0m \u001b[1;36m3\u001b[0m\u001b[1;33m)\u001b[0m\u001b[1;33m\u001b[0m\u001b[1;33m\u001b[0m\u001b[0m\n\u001b[0;32m     23\u001b[0m     \u001b[1;31m#n_array is x, time_array is y, and 3 is the degree\u001b[0m\u001b[1;33m\u001b[0m\u001b[1;33m\u001b[0m\u001b[1;33m\u001b[0m\u001b[0m\n\u001b[1;32m---> 24\u001b[1;33m \u001b[0mprint\u001b[0m\u001b[1;33m(\u001b[0m\u001b[0mproblem3\u001b[0m\u001b[1;33m(\u001b[0m\u001b[1;36m3\u001b[0m\u001b[1;33m,\u001b[0m \u001b[1;34m\"ge\"\u001b[0m\u001b[1;33m)\u001b[0m\u001b[1;33m)\u001b[0m\u001b[1;33m\u001b[0m\u001b[1;33m\u001b[0m\u001b[0m\n\u001b[0m",
      "\u001b[1;32m<ipython-input-10-90899d5c1dd4>\u001b[0m in \u001b[0;36mproblem3\u001b[1;34m(n_array, method)\u001b[0m\n\u001b[0;32m      4\u001b[0m     \u001b[1;31m#size is to tell us the number of matrices we are making\u001b[0m\u001b[1;33m\u001b[0m\u001b[1;33m\u001b[0m\u001b[1;33m\u001b[0m\u001b[0m\n\u001b[0;32m      5\u001b[0m \u001b[1;33m\u001b[0m\u001b[0m\n\u001b[1;32m----> 6\u001b[1;33m     \u001b[0mtime_array\u001b[0m \u001b[1;33m=\u001b[0m \u001b[0mnumpy\u001b[0m\u001b[1;33m.\u001b[0m\u001b[0mzeros\u001b[0m\u001b[1;33m(\u001b[0m\u001b[0mn_array\u001b[0m\u001b[1;33m.\u001b[0m\u001b[0mshape\u001b[0m\u001b[1;33m[\u001b[0m\u001b[1;36m0\u001b[0m\u001b[1;33m]\u001b[0m\u001b[1;33m)\u001b[0m\u001b[1;33m\u001b[0m\u001b[1;33m\u001b[0m\u001b[0m\n\u001b[0m\u001b[0;32m      7\u001b[0m     \u001b[1;31m#we are making an empty array of zeros with first index of the shape, which is the number of columns in a 1 dimensional array\u001b[0m\u001b[1;33m\u001b[0m\u001b[1;33m\u001b[0m\u001b[1;33m\u001b[0m\u001b[0m\n\u001b[0;32m      8\u001b[0m \u001b[1;33m\u001b[0m\u001b[0m\n",
      "\u001b[1;31mAttributeError\u001b[0m: 'int' object has no attribute 'shape'"
     ]
    }
   ],
   "source": [
    "def problem3(n_array, method):\n",
    "    \n",
    "    #n_array is an array of numbers that will tell us what size each matrix that we want to make is\n",
    "    #size is to tell us the number of matrices we are making\n",
    "    \n",
    "    time_array = numpy.zeros(n_array.shape[0])\n",
    "    #we are making an empty array of zeros with first index of the shape, which is the number of columns in a 1 dimensional array\n",
    "\n",
    "    x = 0\n",
    "    #0 is the starting value\n",
    "\n",
    "    for n in n_array:\n",
    "        \n",
    "        #n by n is a square matrix\n",
    "        A = numpy.random.random((n, n))\n",
    "        b = numpy.random.random((n, 1))\n",
    "        time_array[x] = problem2(A, b, method)\n",
    "        #calculates the running time\n",
    "        x += 1\n",
    "        #adds an array each time\n",
    "\n",
    "    return numpy.polyfit(n_array, time_array, 3)\n",
    "    #n_array is x, time_array is y, and 3 is the degree\n",
    "print(problem3(3, \"ge\"))"
   ]
  },
  {
   "cell_type": "code",
   "execution_count": 11,
   "metadata": {},
   "outputs": [
    {
     "name": "stdout",
     "output_type": "stream",
     "text": [
      "[0. 0. 0. 0.]\n",
      "[0. 0. 0. 0.]\n",
      "[0. 0. 0. 0.]\n",
      "4\n",
      "(4,)\n"
     ]
    }
   ],
   "source": [
    "n_array = numpy.array([1, 2, 4, 3])\n",
    "time_array = numpy.array(numpy.zeros(n_array.shape[0]))\n",
    "time_array2 = numpy.empty(n_array.shape[0])\n",
    "time_array3 = numpy.zeros(4)\n",
    "print(time_array)\n",
    "print(time_array2)\n",
    "print(time_array3)\n",
    "print(n_array.shape[0])\n",
    "print(n_array.shape)"
   ]
  },
  {
   "cell_type": "code",
   "execution_count": 12,
   "metadata": {},
   "outputs": [
    {
     "name": "stdout",
     "output_type": "stream",
     "text": [
      "[1, 2, 3]\n",
      "1\n",
      "2\n",
      "3\n",
      "1\n"
     ]
    }
   ],
   "source": [
    "A = [1, 2, 3]\n",
    "def solution(A):\n",
    "    \n",
    "    sortedarray = sorted(A)\n",
    "    print(sortedarray)\n",
    "    for eachint in sortedarray:\n",
    "        counter = 1\n",
    "        print(eachint)\n",
    "        if eachint != counter:\n",
    "            smallest = counter\n",
    "        else:\n",
    "            counter += 1\n",
    "    \n",
    "    return smallest\n",
    "print(solution(A))"
   ]
  }
 ],
 "metadata": {
  "kernelspec": {
   "display_name": "Python 3",
   "language": "python",
   "name": "python3"
  },
  "language_info": {
   "codemirror_mode": {
    "name": "ipython",
    "version": 3
   },
   "file_extension": ".py",
   "mimetype": "text/x-python",
   "name": "python",
   "nbconvert_exporter": "python",
   "pygments_lexer": "ipython3",
   "version": "3.7.3"
  }
 },
 "nbformat": 4,
 "nbformat_minor": 1
}
