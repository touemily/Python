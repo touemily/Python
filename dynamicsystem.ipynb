{
 "cells": [
  {
   "cell_type": "markdown",
   "metadata": {},
   "source": [
   ]
  },
  {
   "cell_type": "markdown",
   "metadata": {},
   "source": [
   
   ]
  },
  {
   "cell_type": "code",
   "execution_count": 1,
   "metadata": {},
   "outputs": [
    {
     "ename": "NameError",
     "evalue": "name 'A' is not defined",
     "output_type": "error",
     "traceback": [
      "\u001b[1;31m---------------------------------------------------------------------------\u001b[0m",
      "\u001b[1;31mNameError\u001b[0m                                 Traceback (most recent call last)",
      "\u001b[1;32m<ipython-input-1-7c23b732d379>\u001b[0m in \u001b[0;36m<module>\u001b[1;34m\u001b[0m\n\u001b[0;32m     55\u001b[0m     \u001b[1;32mreturn\u001b[0m \u001b[1;33m(\u001b[0m\u001b[0muk_array\u001b[0m\u001b[1;33m)\u001b[0m\u001b[1;33m\u001b[0m\u001b[1;33m\u001b[0m\u001b[0m\n\u001b[0;32m     56\u001b[0m \u001b[1;33m\u001b[0m\u001b[0m\n\u001b[1;32m---> 57\u001b[1;33m \u001b[0mprint\u001b[0m\u001b[1;33m(\u001b[0m\u001b[0mevaluate\u001b[0m\u001b[1;33m(\u001b[0m\u001b[0mA\u001b[0m\u001b[1;33m,\u001b[0m \u001b[0mu0\u001b[0m\u001b[1;33m,\u001b[0m \u001b[0mk\u001b[0m\u001b[1;33m)\u001b[0m\u001b[1;33m)\u001b[0m\u001b[1;33m\u001b[0m\u001b[1;33m\u001b[0m\u001b[0m\n\u001b[0m\u001b[0;32m     58\u001b[0m \u001b[1;33m\u001b[0m\u001b[0m\n\u001b[0;32m     59\u001b[0m \u001b[1;32mdef\u001b[0m \u001b[0mevolution\u001b[0m\u001b[1;33m(\u001b[0m\u001b[0mA\u001b[0m\u001b[1;33m,\u001b[0m \u001b[0mu0\u001b[0m\u001b[1;33m,\u001b[0m \u001b[0mk\u001b[0m\u001b[1;33m)\u001b[0m\u001b[1;33m:\u001b[0m\u001b[1;33m\u001b[0m\u001b[1;33m\u001b[0m\u001b[0m\n",
      "\u001b[1;31mNameError\u001b[0m: name 'A' is not defined"
     ]
    }
   ],
   "source": [
    "import numpy as np\n",
    "\n",
    "def eigendecompose(A, u0):\n",
    "    \n",
    "    if (type(A) != np.matrix):\n",
    "        return None\n",
    "    if (type(u0) != np.matrix):\n",
    "        return None\n",
    "    if (np.shape(A)[0] != np.shape(u0)[0]):\n",
    "        return None\n",
    "    if (np.shape(A)[0] != np.shape(A)[-1]):\n",
    "        return None\n",
    "    else:\n",
    "        (evals, evecs) = np.linalg.eig(A)\n",
    "        constants = np.linalg.solve(evecs, u0).ravel().tolist()[0]\n",
    "        evals_list = evals.tolist()\n",
    "        return (evals_list, np.transpose(evecs).tolist(), constants)\n",
    "\n",
    "def evaluate_decomposed(evals, evecs, consts, k):\n",
    "    \n",
    "    if (type(evals) != list):\n",
    "        return None\n",
    "    if (type(evecs) != list):\n",
    "        return None\n",
    "    if (type(consts) != list):\n",
    "        return None\n",
    "    if (type(k) != int):\n",
    "        return None\n",
    "    \n",
    "    uk = []\n",
    "    \n",
    "    for i in range(len(evals)):\n",
    "    \n",
    "        uk.append(consts[i] * (evals[i] ** k) * np.asarray(evecs[i]))\n",
    "    \n",
    "    uk_arr = np.array(uk)\n",
    "    \n",
    "    return np.sum(uk_arr, axis = 0)\n",
    "\n",
    "def evaluate(A, u0, k):\n",
    "    \n",
    "    if (type(A) != np.matrix):\n",
    "        return None\n",
    "    if (type(u0) != np.matrix):\n",
    "        return None\n",
    "    if (type(k) != int):\n",
    "        return None\n",
    "    if (np.shape(A)[0] != np.shape(u0)[0]):\n",
    "        return None\n",
    "    if (np.shape(A)[0] != np.shape(A)[-1]):\n",
    "        return None\n",
    "\n",
    "    uk_array = np.asarray((A**k) *u0)\n",
    "    \n",
    "    return (uk_array)\n",
    "\n",
    "print(evaluate(A, u0, k))\n",
    "\n",
    "def evolution(A, u0, k):\n",
    "    \n",
    "    if (type(A) != np.matrix):\n",
    "        return None\n",
    "    if (type(u0) != np.matrix):\n",
    "        return None\n",
    "    if (type(k) != int):\n",
    "        return None\n",
    "    if (np.shape(A)[0] != np.shape(u0)[0]):\n",
    "        return None\n",
    "    if (np.shape(A)[0] != np.shape(A)[-1]):\n",
    "        return None\n",
    "    \n",
    "    Uk = []\n",
    "    for i in range(k+1):\n",
    "        Uk.append(evaluate(A, u0, i))\n",
    "    \n",
    "    U = np.array(U).transpose.reshape(np.shape(A)[0], k+1)\n",
    "    \n",
    "    return (U)\n",
    "\n"
   ]
  }
 ],
 "metadata": {
  "kernelspec": {
   "display_name": "Python 3",
   "language": "python",
   "name": "python3"
  },
  "language_info": {
   "codemirror_mode": {
    "name": "ipython",
    "version": 3
   },
   "file_extension": ".py",
   "mimetype": "text/x-python",
   "name": "python",
   "nbconvert_exporter": "python",
   "pygments_lexer": "ipython3",
   "version": "3.7.3"
  }
 },
 "nbformat": 4,
 "nbformat_minor": 1
}
