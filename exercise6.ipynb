{
 "cells": [
  {
   "cell_type": "markdown",
   "metadata": {},
   "source": 
  },
  {
   "cell_type": "markdown",
   "metadata": {},
   "source": [
 
    "\n",
    "```python\n",
    "string = \"my string\"\n",
    "\n",
    "str.capitalize(string)\n",
    "```"
   ]
  },
  {
   "cell_type": "code",
   "execution_count": 3,
   "metadata": {},
   "outputs": [
    {
     "name": "stdout",
     "output_type": "stream",
     "text": [
      "My string\n"
     ]
    }
   ],
   "source": [
    "problem1 = True # True or False"
   ]
  },
  {
   "cell_type": "markdown",
   "metadata": {},
   "source": [
    "#### Problem 2\n",
    "\n",
    "Given a string `p2s`, assign to `problem2` a new string resulting from first capitalizing the first letter and then swapping the case of all the characters in `p2s` using a single statement through chaining method calls."
   ]
  },
  {
   "cell_type": "code",
   "execution_count": 14,
   "metadata": {},
   "outputs": [
    {
     "name": "stdout",
     "output_type": "stream",
     "text": [
      "pPPP\n"
     ]
    }
   ],
   "source": [
    "problem2 = (str.capitalize(p2s[0]) + p2s[1::]).swapcase()"
   ]
  },
  {
   "cell_type": "markdown",
   "metadata": {},
   "source": [
    "#### Problem 3\n",
    "\n",
    "Given the string `p3s`, assign to `problem3` the sub-string resulting from concatenating every other (that is, each alternate: first, third, ...) character in `p3s` (starting with the first)."
   ]
  },
  {
   "cell_type": "code",
   "execution_count": 28,
   "metadata": {},
   "outputs": [],
   "source": [
    "problem3 = p3s[0::2]"
   ]
  },
  {
   "cell_type": "markdown",
   "metadata": {},
   "source": [
    "#### Problem 4\n",
    "\n",
    "Given the list `p4l`, assign to `problem4` the last item of the list."
   ]
  },
  {
   "cell_type": "code",
   "execution_count": null,
   "metadata": {},
   "outputs": [],
   "source": [
    "problem4 = p4l[-1]"
   ]
  },
  {
   "cell_type": "markdown",
   "metadata": {},
   "source": [
    "#### Problem 5\n",
    "\n",
    "Given the list `p5l` of numeric objects, assign `problem5` a new list with items (in order): the minimum value, the maximum value, and the average value in `p5l`."
   ]
  },
  {
   "cell_type": "code",
   "execution_count": 6,
   "metadata": {},
   "outputs": [],
   "source": [
    "problem5 = [min(p5l), max(p5l), sum(p5l)/len(p5l)]"
   ]
  },
  {
   "cell_type": "markdown",
   "metadata": {},
   "source": [
    "#### Problem 6\n",
    "\n",
    "Develop a function `problem6(list1, list2)` that concatenates two copies of `list1` with three copies of `list2`."
   ]
  },
  {
   "cell_type": "code",
   "execution_count": 1,
   "metadata": {},
   "outputs": [],
   "source": [
    "def problem6(list1, list2):\n",
    "    combinedlist = list1 + list1 + list2 + list2 + list2\n",
    "    return(combinedlist)"
   ]
  },
  {
   "cell_type": "markdown",
   "metadata": {},
   "source": [
    "#### Problem 7\n",
    "\n",
    "Develop a function `problem7(lists)` that finds the first and last string (lexicographic order) in a list of strings `lists` and returns a new list with these items (in order)."
   ]
  },
  {
   "cell_type": "code",
   "execution_count": null,
   "metadata": {},
   "outputs": [],
   "source": [
    "def problem7(lists):\n",
    "    lists = sorted(lists)\n",
    "    firststring = lists[0]\n",
    "    laststring = lists[-1]\n",
    "    newlist = [firststring, laststring]\n",
    "    return(newlist)"
   ]
  },
  {
   "cell_type": "markdown",
   "metadata": {},
   "source": [
    "#### Problem 8\n",
    "\n",
    "Given lists `p8l1` and `p8l2` along with an object `p8i`, assign to `problem8` the value `True` if `p8i` is an item in both lists, otherwise `False`."
   ]
  },
  {
   "cell_type": "code",
   "execution_count": null,
   "metadata": {},
   "outputs": [],
   "source": [
    "problem8 = p8i in p8l1 and p8i in p8l2"
   ]
  }
 ],
 "metadata": {
  "kernelspec": {
   "display_name": "Python 3",
   "language": "python",
   "name": "python3"
  },
  "language_info": {
   "codemirror_mode": {
    "name": "ipython",
    "version": 3
   },
   "file_extension": ".py",
   "mimetype": "text/x-python",
   "name": "python",
   "nbconvert_exporter": "python",
   "pygments_lexer": "ipython3",
   "version": "3.7.3"
  }
 },
 "nbformat": 4,
 "nbformat_minor": 1
}
