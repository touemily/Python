{
 "cells": [
  {
   "cell_type": "markdown",
   "metadata": {},
   "source": [
    
   ]
  },
  {
   "cell_type": "code",
   "execution_count": 11,
   "metadata": {},
   "outputs": [
    {
     "name": "stdout",
     "output_type": "stream",
     "text": [
      "Input a temperature. 70\n",
      "liquid\n",
      "Input the unit.C\n"
     ]
    }
   ],
   "source": [
    "Tb = 373.13\n",
    "Tm = 273.15\n",
    "k = 0.58\n",
    "cas_number = '7732-18-5'\n",
    "rho = 1000\n",
    "mu = 1\n",
    "\n",
    "def convert_to_kelvin(temperature, units):\n",
    "    if (type(temperature) == float or type(temperature) == int) and type(units) == str and len(units) == 1:\n",
    "        if units == 'C':\n",
    "            temperature = temperature + 273.15\n",
    "            return(temperature)\n",
    "        elif units == 'F':\n",
    "            temperature = (temperature - 32) * (5/9)  + 273.15\n",
    "            return (temperature)\n",
    "        elif units == 'K':\n",
    "            return(temperature)\n",
    "        else:\n",
    "            print('Invalid input!')\n",
    "            return(None)\n",
    "    else:\n",
    "        print('Invalid input!')\n",
    "        return(None)\n",
    "\n",
    "def is_gas(temperature):\n",
    "    Tb = 373.13\n",
    "    Tm = 273.15\n",
    "    if type(temperature) == float or type(temperature) == int:\n",
    "        if temperature >= Tb:\n",
    "            print('gas')\n",
    "            return(True)\n",
    "        else:\n",
    "            return(False)\n",
    "    else:\n",
    "        print('Invalid input!')\n",
    "        return(None)\n",
    "\n",
    "def is_liquid(temperature):\n",
    "    Tb = 373.13\n",
    "    Tm = 273.15\n",
    "    if type(temperature) == float or type(temperature) == int:\n",
    "        if Tb > temperature > Tm:\n",
    "            print('liquid')\n",
    "            return(True)\n",
    "        else:\n",
    "            return(False)\n",
    "    else:\n",
    "        print('Invalid input!')\n",
    "        return(None)\n",
    "\n",
    "def is_solid(temperature):\n",
    "    Tb = 373.13\n",
    "    Tm = 273.15\n",
    "    if type(temperature) == float or type(temperature) == int:\n",
    "        if temperature <= Tm:\n",
    "            print('solid')\n",
    "            return(True)\n",
    "    else:\n",
    "        print('Invalid input!')\n",
    "        return(None)\n",
    "    \n",
    "temperature = input('Input a temperature. ')\n",
    "if '1' in temperature or '2' in temperature or '3' in temperature or '4' in temperature or '5' in temperature\\\n",
    "or '6' in temperature or '7' in temperature or '8' in temperature or '9' in temperature or '0' in temperature:\n",
    "    temperature = float(temperature)\n",
    "    temperature = convert_to_kelvin(temperature, units)\n",
    "    is_gas(temperature)\n",
    "    is_liquid(temperature)\n",
    "    is_solid(temperature)\n",
    "else:\n",
    "    print ('Invalid input!')\n",
    "units = input('Input the unit.')"
   ]
  },
  {
   "cell_type": "code",
   "execution_count": 1,
   "metadata": {},
   "outputs": [
    {
     "name": "stdout",
     "output_type": "stream",
     "text": [
      "1.0\n"
     ]
    }
   ],
   "source": [
    "\n",
    "def solution(A):\n",
    "\n",
    "    counterheads = 0\n",
    "    countertails = 0\n",
    "    numcoins = 0\n",
    "    \n",
    "    for eachcoin in A:\n",
    "        \n",
    "        numcoins +=1\n",
    "        \n",
    "        if eachcoin == 1:\n",
    "            countertails +=1\n",
    "        elif eachcoin == 0:\n",
    "            counterheads +=1\n",
    "    \n",
    "    \n",
    "    if (countertails > counterheads):\n",
    "        return (countertails - counterheads)/2\n",
    "    elif (counterheads > countertails):\n",
    "        return (counterheads - countertails)/2\n",
    "    else:\n",
    "        return 0\n",
    "    \n",
    "print(solution([1, 0, 0, 1, 0, 0]))"
   ]
  }
 ],
 "metadata": {
  "kernelspec": {
   "display_name": "Python 3",
   "language": "python",
   "name": "python3"
  },
  "language_info": {
   "codemirror_mode": {
    "name": "ipython",
    "version": 3
   },
   "file_extension": ".py",
   "mimetype": "text/x-python",
   "name": "python",
   "nbconvert_exporter": "python",
   "pygments_lexer": "ipython3",
   "version": "3.7.3"
  }
 },
 "nbformat": 4,
 "nbformat_minor": 1
}
