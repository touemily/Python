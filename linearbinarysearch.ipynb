{
 "cells": [
  {
   "cell_type": "markdown",
   "metadata": {},
   "source": [
   
   ]
  },
  {
   "cell_type": "code",
   "execution_count": 1,
   "metadata": {},
   "outputs": [],
   "source": [
    "def linear_search(l, item, issorted = False):\n",
    "    \n",
    "    sortedlist = sorted(l)\n",
    "    \n",
    "    for eachnumericvalue in l:\n",
    "        if item == l[eachnumericvalue]:\n",
    "            return(item)\n",
    "        else:\n",
    "            return(None)\n",
    "    for eachsortednumericvalue in sortedlist:\n",
    "        if l[eachsortednumericvalue] == sortedlist[eachsortednumericvalue]:\n",
    "            return (issorted==True)\n",
    "        \n",
    "def binary_search(l, item, issorted = False):\n",
    "    \n",
    "    sortedlist = sorted(l)\n",
    "    \n",
    "    dict= {}\n",
    "    \n",
    "    for eachsortednumericvalue in sortedlist:\n",
    "        dict[eachsortednumericvalue] = l[eachsortednumericvalue]\n",
    "    \n",
    "    left = 0\n",
    "    right = len(sortedlist) - 1\n",
    "\n",
    "    while left != right + 1:\n",
    "        newrange = (left + right) // 2\n",
    "        if sortedlist[newrange] < item:\n",
    "            left = newrange + 1\n",
    "        else:\n",
    "            right = newrange - 1\n",
    "            \n",
    "    if 0 <= left < len(sortedlist) and sortedlist[left] == item:\n",
    "        return(dict[left])\n",
    "    else:\n",
    "        return(None)\n",
    "    print(sortedlist)\n",
    "\n",
    "\n",
    "    for eachsortednumericvalue in sortedlist:\n",
    "        if l[eachsortednumericvalue] == sortedlist[eachsortednumericvalue]:\n",
    "            return (issorted==True)"
   ]
  }
 ],
 "metadata": {
  "kernelspec": {
   "display_name": "Python 3",
   "language": "python",
   "name": "python3"
  },
  "language_info": {
   "codemirror_mode": {
    "name": "ipython",
    "version": 3
   },
   "file_extension": ".py",
   "mimetype": "text/x-python",
   "name": "python",
   "nbconvert_exporter": "python",
   "pygments_lexer": "ipython3",
   "version": "3.7.3"
  }
 },
 "nbformat": 4,
 "nbformat_minor": 1
}
